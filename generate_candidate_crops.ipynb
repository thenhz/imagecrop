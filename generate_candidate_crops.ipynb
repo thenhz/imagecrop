{
 "cells": [
  {
   "cell_type": "code",
   "execution_count": 23,
   "metadata": {},
   "outputs": [
    {
     "data": {
      "text/plain": [
       "<matplotlib.image.AxesImage at 0x7fe0fac6c7f0>"
      ]
     },
     "execution_count": 23,
     "metadata": {},
     "output_type": "execute_result"
    },
    {
     "data": {
      "image/png": "[encoded data removed]",
      "text/plain": [
       "<Figure size 432x288 with 1 Axes>"
      ]
     },
     "metadata": {
      "needs_background": "light"
     },
     "output_type": "display_data"
    }
   ],
   "source": [
    "from PIL import Image\n",
    "from matplotlib.pyplot import imshow\n",
    "import numpy as np\n",
    "\n",
    "n=640\n",
    "m=480\n",
    "\n",
    "pil_im = Image.new('RGB', (n, m))\n",
    "\n",
    "np_im = np.asarray(pil_im)\n",
    "imshow(np_im)"
   ]
  },
  {
   "cell_type": "code",
   "execution_count": 5,
   "metadata": {},
   "outputs": [],
   "source": [
    "#TODO: uniforma tutti i metodi\n",
    "\n",
    "def generate_bboxes_16_9(image):\n",
    "\n",
    "    h = image.shape[0]\n",
    "    w = image.shape[1]\n",
    "    h_step = 9\n",
    "    w_step = 16\n",
    "    annotations = list()\n",
    "    for i in range(14,30):\n",
    "        out_h = h_step*i\n",
    "        out_w = w_step*i\n",
    "        if out_h < h and out_w < w and out_h*out_w>0.4*h*w:\n",
    "            for w_start in range(0,w-out_w,w_step):\n",
    "                for h_start in range(0,h-out_h,h_step):\n",
    "                    annotations.append([float(h_start),float(w_start),float(h_start+out_h-1),float(w_start+out_w-1)])\n",
    "    return annotations\n",
    "\n",
    "def generate_bboxes_4_3(image):\n",
    "\n",
    "    h = image.shape[0]\n",
    "    w = image.shape[1]\n",
    "    h_step = 12\n",
    "    w_step = 16\n",
    "    annotations = list()\n",
    "    for i in range(14,30):\n",
    "        out_h = h_step*i\n",
    "        out_w = w_step*i\n",
    "        if out_h < h and out_w < w and out_h*out_w>0.4*h*w:\n",
    "            for w_start in range(0,w-out_w,w_step):\n",
    "                for h_start in range(0,h-out_h,h_step):\n",
    "                    annotations.append([float(h_start),float(w_start),float(h_start+out_h-1),float(w_start+out_w-1)])\n",
    "    return annotations\n",
    "\n",
    "def generate_bboxes_1_1(image):\n",
    "\n",
    "    h = image.shape[0]\n",
    "    w = image.shape[1]\n",
    "    h_step = 12\n",
    "    w_step = 12\n",
    "    annotations = list()\n",
    "    for i in range(14,30):\n",
    "        out_h = h_step*i\n",
    "        out_w = w_step*i\n",
    "        if out_h < h and out_w < w and out_h*out_w>0.4*h*w:\n",
    "            for w_start in range(0,w-out_w,w_step):\n",
    "                for h_start in range(0,h-out_h,h_step):\n",
    "                    annotations.append([float(h_start),float(w_start),float(h_start+out_h-1),float(w_start+out_w-1)])\n",
    "    return annotations"
   ]
  },
  {
   "cell_type": "code",
   "execution_count": 24,
   "metadata": {
    "scrolled": false
   },
   "outputs": [
    {
     "name": "stdout",
     "output_type": "stream",
     "text": [
      "[0.0, 0.0, 311.0, 415.0]\n"
     ]
    },
    {
     "data": {
      "text/plain": [
       "<matplotlib.image.AxesImage at 0x7fe0fadc74e0>"
      ]
     },
     "execution_count": 24,
     "metadata": {},
     "output_type": "execute_result"
    },
    {
     "data": {
      "image/png": "[encoded data removed]",
      "text/plain": [
       "<Figure size 432x288 with 1 Axes>"
      ]
     },
     "metadata": {
      "needs_background": "light"
     },
     "output_type": "display_data"
    }
   ],
   "source": [
    "from PIL import ImageFont, ImageDraw, ImageEnhance\n",
    "\n",
    "print(generate_bboxes_4_3(np_im)[0])\n",
    "\n",
    "draw = ImageDraw.Draw(pil_im)\n",
    "\n",
    "for bbox in generate_bboxes_4_3(np_im):    \n",
    "    draw.rectangle(((bbox[0], bbox[1]), (bbox[2], bbox[3])),  outline=\"white\")\n",
    "\n",
    "imshow(np.asarray(pil_im))"
   ]
  }
 ],
 "metadata": {
  "kernelspec": {
   "display_name": "Python 3",
   "language": "python",
   "name": "python3"
  },
  "language_info": {
   "codemirror_mode": {
    "name": "ipython",
    "version": 3
   },
   "file_extension": ".py",
   "mimetype": "text/x-python",
   "name": "python",
   "nbconvert_exporter": "python",
   "pygments_lexer": "ipython3",
   "version": "3.6.10"
  }
 },
 "nbformat": 4,
 "nbformat_minor": 4
}
