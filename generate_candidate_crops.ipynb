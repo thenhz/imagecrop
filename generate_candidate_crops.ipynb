{
 "cells": [
  {
   "cell_type": "code",
   "execution_count": 36,
   "metadata": {},
   "outputs": [
    {
     "data": {
      "text/plain": [
       "<matplotlib.image.AxesImage at 0x7f7e240ca908>"
      ]
     },
     "execution_count": 36,
     "metadata": {},
     "output_type": "execute_result"
    },
    {
     "data": {
      "image/png": "[encoded data removed]",
      "text/plain": [
       "<Figure size 432x288 with 1 Axes>"
      ]
     },
     "metadata": {
      "needs_background": "light"
     },
     "output_type": "display_data"
    }
   ],
   "source": [
    "from PIL import Image\n",
    "from matplotlib.pyplot import imshow\n",
    "import numpy as np\n",
    "\n",
    "n=640\n",
    "m=480\n",
    "\n",
    "pil_im = Image.new('RGB', (n, m))\n",
    "\n",
    "np_im = np.asarray(pil_im)\n",
    "imshow(np_im)"
   ]
  },
  {
   "cell_type": "code",
   "execution_count": 37,
   "metadata": {},
   "outputs": [],
   "source": [
    "#TODO: uniforma tutti i metodi\n",
    "\n",
    "def generate_bboxes_16_9(image):\n",
    "\n",
    "    h = image.shape[0]\n",
    "    w = image.shape[1]\n",
    "    h_step = 9\n",
    "    w_step = 16\n",
    "    annotations = list()\n",
    "    for i in range(14,30):\n",
    "        out_h = h_step*i\n",
    "        out_w = w_step*i\n",
    "        if out_h < h and out_w < w and out_h*out_w>0.4*h*w:\n",
    "            for w_start in range(0,w-out_w,w_step):\n",
    "                for h_start in range(0,h-out_h,h_step):\n",
    "                    annotations.append([float(h_start),float(w_start),float(h_start+out_h-1),float(w_start+out_w-1)])\n",
    "    return annotations\n",
    "\n",
    "def generate_bboxes_4_3(image):\n",
    "\n",
    "    h = image.shape[0]\n",
    "    w = image.shape[1]\n",
    "    h_step = 12\n",
    "    w_step = 16\n",
    "    annotations = list()\n",
    "    for i in range(14,30):\n",
    "        out_h = h_step*i\n",
    "        out_w = w_step*i\n",
    "        if out_h < h and out_w < w and out_h*out_w>0.4*h*w:\n",
    "            for w_start in range(0,w-out_w,w_step):\n",
    "                for h_start in range(0,h-out_h,h_step):\n",
    "                    annotations.append([float(h_start),float(w_start),float(h_start+out_h-1),float(w_start+out_w-1)])\n",
    "    return annotations\n",
    "\n",
    "def generate_bboxes_1_1(image):\n",
    "\n",
    "    h = image.shape[0]\n",
    "    w = image.shape[1]\n",
    "    h_step = 12\n",
    "    w_step = 12\n",
    "    annotations = list()\n",
    "    for i in range(14,30):\n",
    "        out_h = h_step*i\n",
    "        out_w = w_step*i\n",
    "        if out_h < h and out_w < w and out_h*out_w>0.4*h*w:\n",
    "            for w_start in range(0,w-out_w,w_step):\n",
    "                for h_start in range(0,h-out_h,h_step):\n",
    "                    annotations.append([float(h_start),float(w_start),float(h_start+out_h-1),float(w_start+out_w-1)])\n",
    "    return annotations\n",
    "\n",
    "def make_crop_coordinates(image):\n",
    "    height = image.shape[0]\n",
    "    width = image.shape[1]\n",
    "    coodinates = []\n",
    "    shorter_dimension = min(width, height)\n",
    "    position_step = shorter_dimension / 80\n",
    "    sizes = [shorter_dimension * 0.8,\n",
    "             shorter_dimension * 0.9, shorter_dimension]\n",
    "    for size in sizes:\n",
    "        position_width = 0\n",
    "        while True:\n",
    "            position_height = 0\n",
    "            while True:\n",
    "                coodinates.append((position_width, position_height,\n",
    "                                   position_width + size, position_height + size))\n",
    "                position_height += position_step\n",
    "                if position_height > height - size:\n",
    "                    break\n",
    "            position_width += position_step\n",
    "            if position_width > width - size:\n",
    "                break\n",
    "    return coodinates"
   ]
  },
  {
   "cell_type": "code",
   "execution_count": 63,
   "metadata": {
    "scrolled": false
   },
   "outputs": [
    {
     "name": "stdout",
     "output_type": "stream",
     "text": [
      "(0, 60.0, 384.0, 444.0)\n"
     ]
    },
    {
     "data": {
      "text/plain": [
       "<matplotlib.image.AxesImage at 0x7f7e24fbc6a0>"
      ]
     },
     "execution_count": 63,
     "metadata": {},
     "output_type": "execute_result"
    },
    {
     "data": {
      "image/png": "[encoded data removed]",
      "text/plain": [
       "<Figure size 432x288 with 1 Axes>"
      ]
     },
     "metadata": {
      "needs_background": "light"
     },
     "output_type": "display_data"
    }
   ],
   "source": [
    "from PIL import ImageFont, ImageDraw, ImageEnhance\n",
    "\n",
    "\n",
    "pil_im = Image.new('RGB', (n, m))\n",
    "np_im = np.asarray(pil_im)\n",
    "print(make_crop_coordinates(np_im)[10])\n",
    "\n",
    "draw = ImageDraw.Draw(pil_im)\n",
    "\n",
    "#for bbox in make_crop_coordinates(np_im):    \n",
    "#    draw.rectangle(((bbox[0], bbox[1]), (bbox[2], bbox[3])),  outline=\"white\")\n",
    "\n",
    "rect1_1 = (60, 60)\n",
    "rect1_2 = (160, 160)\n",
    "\n",
    "rect2_1 = (360, 160)\n",
    "rect2_2 = (460, 260)\n",
    "draw.rectangle((rect1_1, rect1_2),  outline=\"white\")\n",
    "draw.rectangle((rect2_1, rect2_2),  outline=\"white\")\n",
    "\n",
    "imshow(np.asarray(pil_im))"
   ]
  },
  {
   "cell_type": "code",
   "execution_count": 64,
   "metadata": {},
   "outputs": [
    {
     "name": "stdout",
     "output_type": "stream",
     "text": [
      "[(60, 60), (160, 160), (360, 160), (460, 260)]\n"
     ]
    }
   ],
   "source": [
    "hull = [rect1_1, rect1_2,rect2_1, rect2_2]\n",
    "print(hull)"
   ]
  },
  {
   "cell_type": "markdown",
   "metadata": {},
   "source": [
    "### Minimum enclosing rectangle"
   ]
  },
  {
   "cell_type": "code",
   "execution_count": 65,
   "metadata": {},
   "outputs": [
    {
     "name": "stdout",
     "output_type": "stream",
     "text": [
      "[(60, 60), (460, 60), (460, 260), (60, 260)]\n"
     ]
    },
    {
     "data": {
      "text/plain": [
       "<matplotlib.image.AxesImage at 0x7f7e25213dd8>"
      ]
     },
     "execution_count": 65,
     "metadata": {},
     "output_type": "execute_result"
    },
    {
     "data": {
      "image/png": "[encoded data removed]",
      "text/plain": [
       "<Figure size 432x288 with 1 Axes>"
      ]
     },
     "metadata": {
      "needs_background": "light"
     },
     "output_type": "display_data"
    }
   ],
   "source": [
    "import numpy as np\n",
    "\n",
    "def bounding_box(coords):\n",
    "\n",
    "    min_x = 100000 # start with something much higher than expected min\n",
    "    min_y = 100000\n",
    "    max_x = -100000 # start with something much lower than expected max\n",
    "    max_y = -100000\n",
    "\n",
    "    for item in coords:\n",
    "        if item[0] < min_x:\n",
    "            min_x = item[0]\n",
    "\n",
    "        if item[0] > max_x:\n",
    "            max_x = item[0]\n",
    "\n",
    "        if item[1] < min_y:\n",
    "            min_y = item[1]\n",
    "\n",
    "        if item[1] > max_y:\n",
    "            max_y = item[1]\n",
    "\n",
    "    return [(min_x,min_y),(max_x,min_y),(max_x,max_y),(min_x,max_y)]\n",
    "\n",
    "crop = bounding_box(hull)\n",
    "print(crop)\n",
    "\n",
    "np_im = np.asarray(pil_im)\n",
    "\n",
    "draw = ImageDraw.Draw(pil_im)\n",
    "\n",
    "#for bbox in make_crop_coordinates(np_im):    \n",
    "#    draw.rectangle(((bbox[0], bbox[1]), (bbox[2], bbox[3])),  outline=\"white\")\n",
    "\n",
    "rect1_1 = (60, 60)\n",
    "rect1_2 = (160, 160)\n",
    "\n",
    "rect2_1 = (360, 160)\n",
    "rect2_2 = (460, 260)\n",
    "draw.rectangle((crop[0], crop[2]),  outline=\"white\")\n",
    "\n",
    "imshow(np.asarray(pil_im))\n"
   ]
  },
  {
   "cell_type": "markdown",
   "metadata": {},
   "source": [
    "### Calculate crop value"
   ]
  },
  {
   "cell_type": "code",
   "execution_count": 82,
   "metadata": {},
   "outputs": [
    {
     "name": "stdout",
     "output_type": "stream",
     "text": [
      "[[  0   0   0   0   0   0   0   0   0   0]\n",
      " [  0 255 255 255   0   0   0   0   0   0]\n",
      " [  0 255 255 255   0   0   0   0   0   0]\n",
      " [  0 255 255 255   0   0   0   0   0   0]\n",
      " [  0   0   0   0   0   0   0   0   0   0]\n",
      " [  0   0   0   0   0 255 255 255   0   0]\n",
      " [  0   0   0   0   0 255 255 255   0   0]\n",
      " [  0   0   0   0   0 255 255 255   0   0]\n",
      " [  0   0   0   0   0   0   0   0   0   0]\n",
      " [  0   0   0   0   0   0   0   0   0   0]]\n",
      "1275\n"
     ]
    }
   ],
   "source": [
    "pil_im = Image.new('L', (10, 10))\n",
    "np_im = np.asarray(pil_im)\n",
    "\n",
    "draw = ImageDraw.Draw(pil_im)\n",
    "\n",
    "#for bbox in make_crop_coordinates(np_im):    \n",
    "#    draw.rectangle(((bbox[0], bbox[1]), (bbox[2], bbox[3])),  outline=\"white\")\n",
    "\n",
    "rect1_1 = (1, 1)\n",
    "rect1_2 = (3, 3)\n",
    "\n",
    "rect2_1 = (5, 5)\n",
    "rect2_2 = (7, 7)\n",
    "draw.rectangle((rect1_1, rect1_2),  fill = \"white\", outline=\"white\")\n",
    "draw.rectangle((rect2_1, rect2_2),  fill = \"white\", outline=\"white\")\n",
    "\n",
    "\n",
    "pil_im=pil_im.crop((2,2,6,6))\n",
    "\n",
    "\n",
    "print(np.sum(np.asarray(pil_im)))"
   ]
  }
 ],
 "metadata": {
  "kernelspec": {
   "display_name": "Python 3",
   "language": "python",
   "name": "python3"
  },
  "language_info": {
   "codemirror_mode": {
    "name": "ipython",
    "version": 3
   },
   "file_extension": ".py",
   "mimetype": "text/x-python",
   "name": "python",
   "nbconvert_exporter": "python",
   "pygments_lexer": "ipython3",
   "version": "3.6.10"
  }
 },
 "nbformat": 4,
 "nbformat_minor": 4
}
